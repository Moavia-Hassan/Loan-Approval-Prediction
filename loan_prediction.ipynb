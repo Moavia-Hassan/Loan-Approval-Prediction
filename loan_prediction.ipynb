{
 "cells": [
  {
   "cell_type": "markdown",
   "metadata": {},
   "source": [
    "<style>\n",
    "    .title { color: #2E86C1; font-size: 2.5em; text-align: center; font-weight: bold; }\n",
    "    .subtitle { color: #2874A6; font-size: 1.8em; font-weight: bold; }\n",
    "    .section { color: #1B4F72; font-size: 1.4em; font-weight: bold; }\n",
    "    .highlight { background-color: #D5F5E3; padding: 4px 8px; border-radius: 4px; }\n",
    "</style>\n",
    "\n",
    "<div class=\"title\">🏦 Loan Approval Prediction Using Logistic Regression</div>\n",
    "\n",
    "<div class=\"subtitle\">📌 Project Overview</div>\n",
    "<p>\n",
    "    Loan approval is a critical process for financial institutions. To streamline decision-making, I am building a \n",
    "    <span class=\"highlight\">logistic regression model</span> that predicts whether a loan application will be approved based on key features such as:\n",
    "</p>\n",
    "\n",
    "<ul>\n",
    "    <li>✔ <b>Applicant Income</b></li>\n",
    "    <li>✔ <b>Coapplicant Income</b></li>\n",
    "    <li>✔ <b>Loan Amount & Term</b></li>\n",
    "    <li>✔ <b>Credit History</b></li>\n",
    "</ul>\n",
    "\n",
    "<div class=\"subtitle\">🎯 Objective</div>\n",
    "<p>\n",
    "    The goal is to develop a <b>data-driven model</b> that helps in making accurate loan approval predictions. \n",
    "    This project follows a structured workflow:\n",
    "</p>\n",
    "\n",
    "<ul>\n",
    "    <li>🔹 <b>Data Cleaning & Preprocessing</b></li>\n",
    "    <li>🔹 <b>Exploratory Data Analysis (EDA)</b></li>\n",
    "    <li>🔹 <b>Feature Engineering</b></li>\n",
    "    <li>🔹 <b>Model Building & Evaluation</b></li>\n",
    "</ul>\n",
    "\n",
    "<p>\n",
    "    By the end of this project, I aim to achieve a well-tuned logistic regression model that balances <b>accuracy</b> and <b>interpretability</b>.\n",
    "</p>\n",
    "\n",
    "<div class=\"subtitle\">📂 Dataset</div>\n",
    "<p>\n",
    "    The dataset used in this project can be accessed from \n",
    "    <a href=\"https://www.kaggle.com/datasets/ninzaami/loan-predication\" target=\"_blank\"><b>this Kaggle link</b></a>.\n",
    "</p>\n"
   ]
  },
  {
   "cell_type": "markdown",
   "metadata": {},
   "source": [
    "## 📥 Loading the Dataset  \n",
    "\n",
    "To begin, I load the **Loan Approval Dataset** into a Pandas DataFrame. The dataset contains **applicant details, income information, loan attributes, and approval status**. Here’s a glimpse of the data:\n",
    "\n",
    "🔹 **Categorical Features**: Gender, Married, Education, Self-Employed, Property Area, Loan Status  \n",
    "🔹 **Numerical Features**: Applicant Income, Coapplicant Income, Loan Amount, Loan Term, Credit History  \n",
    "\n",
    "Before proceeding, I'll perform **data cleaning** to handle missing values and inconsistencies. 🚀\n"
   ]
  },
  {
   "cell_type": "code",
   "execution_count": 1,
   "metadata": {},
   "outputs": [
    {
     "name": "stdout",
     "output_type": "stream",
     "text": [
      "    Loan_ID Gender Married Dependents     Education Self_Employed  \\\n",
      "0  LP001002   Male      No          0      Graduate            No   \n",
      "1  LP001003   Male     Yes          1      Graduate            No   \n",
      "2  LP001005   Male     Yes          0      Graduate           Yes   \n",
      "3  LP001006   Male     Yes          0  Not Graduate            No   \n",
      "4  LP001008   Male      No          0      Graduate            No   \n",
      "\n",
      "   ApplicantIncome  CoapplicantIncome  LoanAmount  Loan_Amount_Term  \\\n",
      "0             5849                0.0         NaN             360.0   \n",
      "1             4583             1508.0       128.0             360.0   \n",
      "2             3000                0.0        66.0             360.0   \n",
      "3             2583             2358.0       120.0             360.0   \n",
      "4             6000                0.0       141.0             360.0   \n",
      "\n",
      "   Credit_History Property_Area Loan_Status  \n",
      "0             1.0         Urban           Y  \n",
      "1             1.0         Rural           N  \n",
      "2             1.0         Urban           Y  \n",
      "3             1.0         Urban           Y  \n",
      "4             1.0         Urban           Y  \n"
     ]
    }
   ],
   "source": [
    "import pandas as pd\n",
    "df = pd.read_csv('loan_approval.csv') \n",
    "print(df.head()) "
   ]
  },
  {
   "cell_type": "markdown",
   "metadata": {},
   "source": [
    "## 🔍 Data Inspection & Summary\n",
    "\n",
    "Before diving deeper, it's important to examine the dataset's structure and check for any missing or outlier values. I'll first review:\n",
    "\n",
    "1. **Dataset Info** – To check the data types and non-null counts.\n",
    "2. **Missing Values** – To see if there are any missing entries in the columns.\n",
    "3. **Statistical Summary** – To understand the distribution of numerical features.\n",
    "4. **Unique Values in 'Gender' Column** – To check the categories of gender for potential encoding.\n",
    "\n",
    "This step will help me identify issues like missing values, incorrect data types, or outliers, which need to be addressed for further analysis. 🚀\n"
   ]
  },
  {
   "cell_type": "code",
   "execution_count": 2,
   "metadata": {},
   "outputs": [
    {
     "name": "stdout",
     "output_type": "stream",
     "text": [
      "<class 'pandas.core.frame.DataFrame'>\n",
      "RangeIndex: 614 entries, 0 to 613\n",
      "Data columns (total 13 columns):\n",
      " #   Column             Non-Null Count  Dtype  \n",
      "---  ------             --------------  -----  \n",
      " 0   Loan_ID            614 non-null    object \n",
      " 1   Gender             601 non-null    object \n",
      " 2   Married            611 non-null    object \n",
      " 3   Dependents         599 non-null    object \n",
      " 4   Education          614 non-null    object \n",
      " 5   Self_Employed      582 non-null    object \n",
      " 6   ApplicantIncome    614 non-null    int64  \n",
      " 7   CoapplicantIncome  614 non-null    float64\n",
      " 8   LoanAmount         592 non-null    float64\n",
      " 9   Loan_Amount_Term   600 non-null    float64\n",
      " 10  Credit_History     564 non-null    float64\n",
      " 11  Property_Area      614 non-null    object \n",
      " 12  Loan_Status        614 non-null    object \n",
      "dtypes: float64(4), int64(1), object(8)\n",
      "memory usage: 62.5+ KB\n",
      "None\n",
      "Loan_ID               0\n",
      "Gender               13\n",
      "Married               3\n",
      "Dependents           15\n",
      "Education             0\n",
      "Self_Employed        32\n",
      "ApplicantIncome       0\n",
      "CoapplicantIncome     0\n",
      "LoanAmount           22\n",
      "Loan_Amount_Term     14\n",
      "Credit_History       50\n",
      "Property_Area         0\n",
      "Loan_Status           0\n",
      "dtype: int64\n",
      "       ApplicantIncome  CoapplicantIncome  LoanAmount  Loan_Amount_Term  \\\n",
      "count       614.000000         614.000000  592.000000         600.00000   \n",
      "mean       5403.459283        1621.245798  146.412162         342.00000   \n",
      "std        6109.041673        2926.248369   85.587325          65.12041   \n",
      "min         150.000000           0.000000    9.000000          12.00000   \n",
      "25%        2877.500000           0.000000  100.000000         360.00000   \n",
      "50%        3812.500000        1188.500000  128.000000         360.00000   \n",
      "75%        5795.000000        2297.250000  168.000000         360.00000   \n",
      "max       81000.000000       41667.000000  700.000000         480.00000   \n",
      "\n",
      "       Credit_History  \n",
      "count      564.000000  \n",
      "mean         0.842199  \n",
      "std          0.364878  \n",
      "min          0.000000  \n",
      "25%          1.000000  \n",
      "50%          1.000000  \n",
      "75%          1.000000  \n",
      "max          1.000000  \n",
      "['Male' 'Female' nan]\n"
     ]
    }
   ],
   "source": [
    "print(df.info())\n",
    "print(df.isnull().sum())\n",
    "print(df.describe())\n",
    "print(df['Gender'].unique())  "
   ]
  },
  {
   "cell_type": "markdown",
   "metadata": {},
   "source": [
    "## 🧹 Handling Missing Data  \n",
    "\n",
    "The dataset contains several missing values across different columns. To ensure no missing values impact the model's performance, I'll fill these missing values using the most appropriate method:\n",
    "\n",
    "- **Numerical columns like 'LoanAmount'** will be filled with the **median** value to avoid skewing the data.\n",
    "- **Categorical columns like 'Gender', 'Married', 'Dependents', 'Self_Employed', and 'Credit_History'** will be filled with the **mode** (most frequent value) to maintain the category distribution.\n",
    "\n",
    "After filling in the missing values, I'll verify that no more missing data exists in the dataset. This ensures that the model will not encounter any issues when training.  \n"
   ]
  },
  {
   "cell_type": "code",
   "execution_count": 3,
   "metadata": {},
   "outputs": [
    {
     "name": "stdout",
     "output_type": "stream",
     "text": [
      "Loan_ID               0\n",
      "Gender               13\n",
      "Married               3\n",
      "Dependents           15\n",
      "Education             0\n",
      "Self_Employed        32\n",
      "ApplicantIncome       0\n",
      "CoapplicantIncome     0\n",
      "LoanAmount           22\n",
      "Loan_Amount_Term     14\n",
      "Credit_History       50\n",
      "Property_Area         0\n",
      "Loan_Status           0\n",
      "dtype: int64\n",
      "Loan_ID              0\n",
      "Gender               0\n",
      "Married              0\n",
      "Dependents           0\n",
      "Education            0\n",
      "Self_Employed        0\n",
      "ApplicantIncome      0\n",
      "CoapplicantIncome    0\n",
      "LoanAmount           0\n",
      "Loan_Amount_Term     0\n",
      "Credit_History       0\n",
      "Property_Area        0\n",
      "Loan_Status          0\n",
      "dtype: int64\n"
     ]
    },
    {
     "name": "stderr",
     "output_type": "stream",
     "text": [
      "C:\\Users\\MoaviaHassan\\AppData\\Local\\Temp\\ipykernel_3744\\963934493.py:3: FutureWarning: A value is trying to be set on a copy of a DataFrame or Series through chained assignment using an inplace method.\n",
      "The behavior will change in pandas 3.0. This inplace method will never work because the intermediate object on which we are setting values always behaves as a copy.\n",
      "\n",
      "For example, when doing 'df[col].method(value, inplace=True)', try using 'df.method({col: value}, inplace=True)' or df[col] = df[col].method(value) instead, to perform the operation inplace on the original object.\n",
      "\n",
      "\n",
      "  df['LoanAmount'].fillna(df['LoanAmount'].median(), inplace=True)\n",
      "C:\\Users\\MoaviaHassan\\AppData\\Local\\Temp\\ipykernel_3744\\963934493.py:4: FutureWarning: A value is trying to be set on a copy of a DataFrame or Series through chained assignment using an inplace method.\n",
      "The behavior will change in pandas 3.0. This inplace method will never work because the intermediate object on which we are setting values always behaves as a copy.\n",
      "\n",
      "For example, when doing 'df[col].method(value, inplace=True)', try using 'df.method({col: value}, inplace=True)' or df[col] = df[col].method(value) instead, to perform the operation inplace on the original object.\n",
      "\n",
      "\n",
      "  df['Gender'].fillna(df['Gender'].mode()[0], inplace=True)\n",
      "C:\\Users\\MoaviaHassan\\AppData\\Local\\Temp\\ipykernel_3744\\963934493.py:5: FutureWarning: A value is trying to be set on a copy of a DataFrame or Series through chained assignment using an inplace method.\n",
      "The behavior will change in pandas 3.0. This inplace method will never work because the intermediate object on which we are setting values always behaves as a copy.\n",
      "\n",
      "For example, when doing 'df[col].method(value, inplace=True)', try using 'df.method({col: value}, inplace=True)' or df[col] = df[col].method(value) instead, to perform the operation inplace on the original object.\n",
      "\n",
      "\n",
      "  df['Married'].fillna(df['Married'].mode()[0], inplace=True)\n",
      "C:\\Users\\MoaviaHassan\\AppData\\Local\\Temp\\ipykernel_3744\\963934493.py:6: FutureWarning: A value is trying to be set on a copy of a DataFrame or Series through chained assignment using an inplace method.\n",
      "The behavior will change in pandas 3.0. This inplace method will never work because the intermediate object on which we are setting values always behaves as a copy.\n",
      "\n",
      "For example, when doing 'df[col].method(value, inplace=True)', try using 'df.method({col: value}, inplace=True)' or df[col] = df[col].method(value) instead, to perform the operation inplace on the original object.\n",
      "\n",
      "\n",
      "  df['Dependents'].fillna(df['Dependents'].mode()[0], inplace=True)\n",
      "C:\\Users\\MoaviaHassan\\AppData\\Local\\Temp\\ipykernel_3744\\963934493.py:7: FutureWarning: A value is trying to be set on a copy of a DataFrame or Series through chained assignment using an inplace method.\n",
      "The behavior will change in pandas 3.0. This inplace method will never work because the intermediate object on which we are setting values always behaves as a copy.\n",
      "\n",
      "For example, when doing 'df[col].method(value, inplace=True)', try using 'df.method({col: value}, inplace=True)' or df[col] = df[col].method(value) instead, to perform the operation inplace on the original object.\n",
      "\n",
      "\n",
      "  df['Self_Employed'].fillna(df['Self_Employed'].mode()[0], inplace=True)\n",
      "C:\\Users\\MoaviaHassan\\AppData\\Local\\Temp\\ipykernel_3744\\963934493.py:8: FutureWarning: A value is trying to be set on a copy of a DataFrame or Series through chained assignment using an inplace method.\n",
      "The behavior will change in pandas 3.0. This inplace method will never work because the intermediate object on which we are setting values always behaves as a copy.\n",
      "\n",
      "For example, when doing 'df[col].method(value, inplace=True)', try using 'df.method({col: value}, inplace=True)' or df[col] = df[col].method(value) instead, to perform the operation inplace on the original object.\n",
      "\n",
      "\n",
      "  df['Credit_History'].fillna(df['Credit_History'].mode()[0], inplace=True)\n",
      "C:\\Users\\MoaviaHassan\\AppData\\Local\\Temp\\ipykernel_3744\\963934493.py:9: FutureWarning: A value is trying to be set on a copy of a DataFrame or Series through chained assignment using an inplace method.\n",
      "The behavior will change in pandas 3.0. This inplace method will never work because the intermediate object on which we are setting values always behaves as a copy.\n",
      "\n",
      "For example, when doing 'df[col].method(value, inplace=True)', try using 'df.method({col: value}, inplace=True)' or df[col] = df[col].method(value) instead, to perform the operation inplace on the original object.\n",
      "\n",
      "\n",
      "  df['Loan_Amount_Term'].fillna(df['Loan_Amount_Term'].mode()[0], inplace=True)\n"
     ]
    }
   ],
   "source": [
    "print(df.isnull().sum())\n",
    "\n",
    "df['LoanAmount'].fillna(df['LoanAmount'].median(), inplace=True)\n",
    "df['Gender'].fillna(df['Gender'].mode()[0], inplace=True)\n",
    "df['Married'].fillna(df['Married'].mode()[0], inplace=True)\n",
    "df['Dependents'].fillna(df['Dependents'].mode()[0], inplace=True)\n",
    "df['Self_Employed'].fillna(df['Self_Employed'].mode()[0], inplace=True)\n",
    "df['Credit_History'].fillna(df['Credit_History'].mode()[0], inplace=True)\n",
    "df['Loan_Amount_Term'].fillna(df['Loan_Amount_Term'].mode()[0], inplace=True)\n",
    "print(df.isnull().sum())\n"
   ]
  },
  {
   "cell_type": "markdown",
   "metadata": {},
   "source": [
    "## 🚨 Handling Outliers in 'LoanAmount'\n",
    "\n",
    "Outliers can significantly impact the performance of machine learning models, especially in regression tasks. Therefore, I will address outliers in the **'LoanAmount'** column using the **Interquartile Range (IQR)** method.\n",
    "\n",
    "The steps involved:\n",
    "1. **Calculate the first (Q1) and third (Q3) quartiles** to determine the IQR.\n",
    "2. **Define the lower and upper bounds** for normal values.\n",
    "3. **Cap values** that fall outside the bounds to the closest limit.\n",
    "\n",
    "This method ensures that extreme outliers are treated while keeping the distribution intact.\n",
    "\n",
    "After applying this, I'll check the distribution of 'LoanAmount' again to confirm the adjustments. 📊\n"
   ]
  },
  {
   "cell_type": "code",
   "execution_count": 4,
   "metadata": {},
   "outputs": [
    {
     "name": "stdout",
     "output_type": "stream",
     "text": [
      "count    614.000000\n",
      "mean     137.365635\n",
      "std       55.779749\n",
      "min        9.000000\n",
      "25%      100.250000\n",
      "50%      128.000000\n",
      "75%      164.750000\n",
      "max      261.500000\n",
      "Name: LoanAmount, dtype: float64\n"
     ]
    }
   ],
   "source": [
    "Q1 = df['LoanAmount'].quantile(0.25)\n",
    "Q3 = df['LoanAmount'].quantile(0.75)\n",
    "IQR = Q3 - Q1\n",
    "\n",
    "lower_bound = Q1 - 1.5 * IQR\n",
    "upper_bound = Q3 + 1.5 * IQR\n",
    "\n",
    "df['LoanAmount'] = df['LoanAmount'].apply(lambda x: upper_bound if x > upper_bound else (lower_bound if x < lower_bound else x))\n",
    "\n",
    "print(df['LoanAmount'].describe())\n"
   ]
  },
  {
   "cell_type": "markdown",
   "metadata": {},
   "source": [
    "## 🔢 Encoding Categorical Variables\n",
    "\n",
    "To ensure the machine learning model can process categorical features, I will **encode** them into numerical format. This is done using **one-hot encoding**, which creates binary columns for each category. For efficiency, I will **drop the first category** in each column to avoid multicollinearity (the \"dummy variable trap\").\n",
    "\n",
    "Columns to be encoded:\n",
    "- **'Gender'**, **'Married'**, **'Education'**, **'Self_Employed'**, and **'Property_Area'**\n",
    "\n",
    "By applying this transformation, the model will be able to interpret categorical variables as numerical input without any assumptions of ordinal relationships.  \n",
    "\n",
    "After encoding, I will check the updated dataset to confirm the changes. 📊\n"
   ]
  },
  {
   "cell_type": "code",
   "execution_count": 5,
   "metadata": {},
   "outputs": [
    {
     "name": "stdout",
     "output_type": "stream",
     "text": [
      "    Loan_ID Dependents  ApplicantIncome  CoapplicantIncome  LoanAmount  \\\n",
      "0  LP001002          0             5849                0.0       128.0   \n",
      "1  LP001003          1             4583             1508.0       128.0   \n",
      "2  LP001005          0             3000                0.0        66.0   \n",
      "3  LP001006          0             2583             2358.0       120.0   \n",
      "4  LP001008          0             6000                0.0       141.0   \n",
      "\n",
      "   Loan_Amount_Term  Credit_History Loan_Status  Gender_Male  Married_Yes  \\\n",
      "0             360.0             1.0           Y         True        False   \n",
      "1             360.0             1.0           N         True         True   \n",
      "2             360.0             1.0           Y         True         True   \n",
      "3             360.0             1.0           Y         True         True   \n",
      "4             360.0             1.0           Y         True        False   \n",
      "\n",
      "   Education_Not Graduate  Self_Employed_Yes  Property_Area_Semiurban  \\\n",
      "0                   False              False                    False   \n",
      "1                   False              False                    False   \n",
      "2                   False               True                    False   \n",
      "3                    True              False                    False   \n",
      "4                   False              False                    False   \n",
      "\n",
      "   Property_Area_Urban  \n",
      "0                 True  \n",
      "1                False  \n",
      "2                 True  \n",
      "3                 True  \n",
      "4                 True  \n"
     ]
    }
   ],
   "source": [
    "df = pd.get_dummies(df, columns=['Gender', 'Married', 'Education', 'Self_Employed', 'Property_Area'], drop_first=True)\n",
    "\n",
    "print(df.head())\n"
   ]
  },
  {
   "cell_type": "markdown",
   "metadata": {},
   "source": [
    "## 💾 Saving the Cleaned Dataset\n",
    "\n",
    "After handling missing values, outliers, and encoding categorical variables, the dataset is now ready for use in training models. To preserve these changes, I will **save the cleaned dataset** to a new CSV file called **'cleaned_loan_prediction.csv'**. This will allow me to easily load the dataset for future analysis or model training.\n",
    "\n",
    "The file will not include the index, keeping the structure neat and consistent with the original data.  \n"
   ]
  },
  {
   "cell_type": "code",
   "execution_count": 6,
   "metadata": {},
   "outputs": [],
   "source": [
    "df.to_csv('cleaned_loan_prediction.csv', index=False)"
   ]
  },
  {
   "cell_type": "markdown",
   "metadata": {},
   "source": [
    "## 📊 Exploratory Data Analysis (EDA)\n",
    "\n",
    "Now that the data is cleaned, it's important to **perform some initial exploratory analysis** to understand the dataset better.\n",
    "\n",
    "1. **Descriptive Statistics**: I will start by looking at the summary statistics for numerical columns, such as **ApplicantIncome**, **LoanAmount**, and **Credit_History**. This helps in understanding the central tendency, spread, and any potential anomalies.\n",
    "   \n",
    "2. **Frequency Distribution**: I will also display the frequency distribution for categorical columns, specifically the **'Loan_Status'** (target variable) and **'Credit_History'**, to see how balanced the target is and the distribution of other key features.\n",
    "\n",
    "### Key Observations:\n",
    "- The **Loan_Status** column shows that there are more **'Y'** (approved) loans compared to **'N'** (not approved), which gives an insight into the data's balance.\n",
    "- The **Credit_History** column mostly has values of 1.0 (indicating a positive credit history), with a small number of 0.0 entries (indicating a negative credit history).\n",
    "\n",
    "This analysis gives a good foundation for deciding the next steps in model building. 🚀\n"
   ]
  },
  {
   "cell_type": "code",
   "execution_count": 8,
   "metadata": {},
   "outputs": [
    {
     "name": "stdout",
     "output_type": "stream",
     "text": [
      "       ApplicantIncome  CoapplicantIncome  LoanAmount  Loan_Amount_Term  \\\n",
      "count       614.000000         614.000000  614.000000        614.000000   \n",
      "mean       5403.459283        1621.245798  137.365635        342.410423   \n",
      "std        6109.041673        2926.248369   55.779749         64.428629   \n",
      "min         150.000000           0.000000    9.000000         12.000000   \n",
      "25%        2877.500000           0.000000  100.250000        360.000000   \n",
      "50%        3812.500000        1188.500000  128.000000        360.000000   \n",
      "75%        5795.000000        2297.250000  164.750000        360.000000   \n",
      "max       81000.000000       41667.000000  261.500000        480.000000   \n",
      "\n",
      "       Credit_History  \n",
      "count      614.000000  \n",
      "mean         0.855049  \n",
      "std          0.352339  \n",
      "min          0.000000  \n",
      "25%          1.000000  \n",
      "50%          1.000000  \n",
      "75%          1.000000  \n",
      "max          1.000000  \n",
      "Loan_Status\n",
      "Y    422\n",
      "N    192\n",
      "Name: count, dtype: int64\n",
      "Credit_History\n",
      "1.0    525\n",
      "0.0     89\n",
      "Name: count, dtype: int64\n"
     ]
    }
   ],
   "source": [
    "import pandas as pd\n",
    "\n",
    "df = pd.read_csv('cleaned_loan_prediction.csv')\n",
    "\n",
    "print(df.describe())\n",
    "\n",
    "print(df['Loan_Status'].value_counts())  # Target variable\n",
    "print(df['Credit_History'].value_counts())  # Example for another categorical column\n"
   ]
  },
  {
   "cell_type": "markdown",
   "metadata": {},
   "source": [
    "## 📊 Statistical Testing: Chi-square Test\n",
    "\n",
    "Next, I will perform a **Chi-square test** to analyze the relationship between **Credit_History** (a categorical feature) and **Loan_Status** (the target variable). The goal is to assess whether there is a significant association between the applicant's credit history and the loan approval status.\n",
    "\n",
    "### **Chi-square Test Results:**\n",
    "- **Chi2 Statistic**: 176.11 — This is the test statistic calculated from the observed and expected frequencies.\n",
    "- **P-value**: 3.42e-40 — A very low p-value suggests strong evidence against the null hypothesis, meaning there is a statistically significant relationship between **Credit_History** and **Loan_Status**.\n",
    "- **Degrees of Freedom**: 1 — The degrees of freedom for this test, calculated as the number of categories in **Credit_History** minus one, multiplied by the number of categories in **Loan_Status** minus one.\n",
    "- **Expected Frequencies**: A table showing the expected counts for each combination of categories.\n",
    "\n",
    "Since the p-value is very small (less than 0.05), I can confidently reject the null hypothesis, concluding that **Credit_History** has a significant influence on **Loan_Status**.\n",
    "\n",
    "This statistical test helps provide insight into which features are worth considering in the model. 🚀\n"
   ]
  },
  {
   "cell_type": "code",
   "execution_count": 9,
   "metadata": {},
   "outputs": [
    {
     "name": "stdout",
     "output_type": "stream",
     "text": [
      "Chi-square Test Results:\n",
      "Chi2 Statistic: 176.1145746235241\n",
      "P-value: 3.4183499979091188e-40\n",
      "Degrees of Freedom: 1\n",
      "Expected Frequencies Table:\n",
      "[[ 27.83061889  61.16938111]\n",
      " [164.16938111 360.83061889]]\n"
     ]
    }
   ],
   "source": [
    "from scipy.stats import chi2_contingency\n",
    "\n",
    "contingency_table = pd.crosstab(df['Credit_History'], df['Loan_Status'])\n",
    "\n",
    "chi2, p_value, dof, expected = chi2_contingency(contingency_table)\n",
    "\n",
    "print(\"Chi-square Test Results:\")\n",
    "print(f\"Chi2 Statistic: {chi2}\")\n",
    "print(f\"P-value: {p_value}\")\n",
    "print(f\"Degrees of Freedom: {dof}\")\n",
    "print(\"Expected Frequencies Table:\")\n",
    "print(expected)\n"
   ]
  },
  {
   "cell_type": "markdown",
   "metadata": {},
   "source": [
    "## 🧑‍💼 T-test for Independent Samples: ApplicantIncome\n",
    "\n",
    "Now, I will conduct a **t-test** to compare the **ApplicantIncome** between the approved and rejected loan groups. The t-test helps assess whether there is a significant difference in the mean income between the two groups.\n",
    "\n",
    "### **T-test Results for ApplicantIncome:**\n",
    "- **t-statistic**: -0.1165 — The t-statistic is close to zero, indicating a minimal difference between the two groups.\n",
    "- **p-value**: 0.9073 — Since the p-value is much greater than 0.05, I fail to reject the null hypothesis. This suggests that there is **no significant difference** in the average income between approved and rejected loan applicants.\n",
    "\n",
    "### **Conclusion:**\n",
    "The lack of a significant result implies that **ApplicantIncome** alone may not be a strong predictor for loan approval, which might suggest considering other features or transforming this feature for better model performance.\n"
   ]
  },
  {
   "cell_type": "code",
   "execution_count": 10,
   "metadata": {},
   "outputs": [
    {
     "name": "stdout",
     "output_type": "stream",
     "text": [
      "t-test Results for ApplicantIncome:\n",
      "t-statistic: -0.11650844828724542\n",
      "p-value: 0.907287812130518\n"
     ]
    }
   ],
   "source": [
    "from scipy.stats import ttest_ind\n",
    "\n",
    "income_approved = df[df['Loan_Status'] == 'Y']['ApplicantIncome']\n",
    "income_rejected = df[df['Loan_Status'] == 'N']['ApplicantIncome']\n",
    "\n",
    "t_stat, p_value = ttest_ind(income_approved, income_rejected)\n",
    "\n",
    "print(\"t-test Results for ApplicantIncome:\")\n",
    "print(f\"t-statistic: {t_stat}\")\n",
    "print(f\"p-value: {p_value}\")"
   ]
  },
  {
   "cell_type": "markdown",
   "metadata": {},
   "source": [
    "### Variance Inflation Factor (VIF) Calculation\n",
    "\n",
    "In this step, I calculate the Variance Inflation Factor (VIF) for each independent variable. VIF measures the extent to which the variance of an estimated regression coefficient increases due to collinearity with other predictors. A higher VIF indicates high multicollinearity.\n",
    "\n",
    "Here, I focus on the following variables: \n",
    "- `ApplicantIncome`\n",
    "- `CoapplicantIncome`\n",
    "- `LoanAmount`\n",
    "- `Loan_Amount_Term`\n",
    "- `Credit_History`\n",
    "\n",
    "Typically, a VIF above 5-10 suggests problematic multicollinearity, which might affect the model’s accuracy. If necessary, I will consider transforming or removing variables with high VIF values.\n"
   ]
  },
  {
   "cell_type": "code",
   "execution_count": 11,
   "metadata": {},
   "outputs": [
    {
     "name": "stdout",
     "output_type": "stream",
     "text": [
      "VIF Results:\n",
      "            Variable       VIF\n",
      "0    ApplicantIncome  2.321698\n",
      "1  CoapplicantIncome  1.456320\n",
      "2         LoanAmount  9.008554\n",
      "3   Loan_Amount_Term  9.639508\n",
      "4     Credit_History  5.871926\n"
     ]
    }
   ],
   "source": [
    "from statsmodels.stats.outliers_influence import variance_inflation_factor\n",
    "\n",
    "independent_vars = df[['ApplicantIncome', 'CoapplicantIncome', 'LoanAmount', 'Loan_Amount_Term', 'Credit_History']]\n",
    "\n",
    "vif_data = pd.DataFrame()\n",
    "vif_data['Variable'] = independent_vars.columns\n",
    "vif_data['VIF'] = [variance_inflation_factor(independent_vars.values, i) for i in range(independent_vars.shape[1])]\n",
    "\n",
    "print(\"VIF Results:\")\n",
    "print(vif_data)\n"
   ]
  },
  {
   "cell_type": "markdown",
   "metadata": {},
   "source": [
    "### Handling Multicollinearity by Removing Highly Correlated Variables\n",
    "\n",
    "After analyzing the Variance Inflation Factor (VIF) values, it was observed that `LoanAmount` and `Loan_Amount_Term` have high VIF, indicating multicollinearity. To address this, we will remove the `Loan_Amount_Term` variable and recalculate the VIF for the remaining features. By doing this, we reduce multicollinearity and make the model more stable.\n",
    "\n",
    "#### Code to Remove `Loan_Amount_Term` and Recalculate VIF\n"
   ]
  },
  {
   "cell_type": "code",
   "execution_count": 12,
   "metadata": {},
   "outputs": [
    {
     "name": "stdout",
     "output_type": "stream",
     "text": [
      "Updated VIF Results after removing Loan_Amount_Term:\n",
      "            Variable       VIF\n",
      "0    ApplicantIncome  2.303778\n",
      "1  CoapplicantIncome  1.450722\n",
      "2         LoanAmount  5.975299\n",
      "3     Credit_History  3.791828\n"
     ]
    }
   ],
   "source": [
    "df = df.drop(columns=['Loan_Amount_Term'])\n",
    "\n",
    "independent_vars = df[['ApplicantIncome', 'CoapplicantIncome', 'LoanAmount', 'Credit_History']]\n",
    "vif_data = pd.DataFrame()\n",
    "vif_data['Variable'] = independent_vars.columns\n",
    "vif_data['VIF'] = [variance_inflation_factor(independent_vars.values, i) for i in range(independent_vars.shape[1])]\n",
    "\n",
    "print(\"Updated VIF Results after removing Loan_Amount_Term:\")\n",
    "print(vif_data)\n"
   ]
  },
  {
   "cell_type": "markdown",
   "metadata": {},
   "source": [
    "### Adding \"Monthly Loan Payment\" Feature\n",
    "\n",
    "We will add a new feature **\"Monthly Loan Payment\"** based on a standard loan payment formula. The formula for monthly payments is:\n",
    "\n",
    "\\[\n",
    "M = \\frac{P \\times r \\times (1 + r)^n}{(1 + r)^n - 1}\n",
    "\\]\n",
    "\n",
    "Where:\n",
    "- **M** is the monthly payment.\n",
    "- **P** is the loan amount.\n",
    "- **r** is the monthly interest rate (annual rate divided by 12).\n",
    "- **n** is the number of payments (loan term in months).\n",
    "\n",
    "We will also handle outliers in the newly created feature to ensure its validity.\n"
   ]
  },
  {
   "cell_type": "code",
   "execution_count": 14,
   "metadata": {},
   "outputs": [
    {
     "name": "stdout",
     "output_type": "stream",
     "text": [
      "   LoanAmount  Monthly_Loan_Payment\n",
      "0       128.0              1.123292\n",
      "1       128.0              1.123292\n",
      "2        66.0              0.579197\n",
      "3       120.0              1.053086\n",
      "4       141.0              1.237376\n",
      "Cleaned Monthly Loan Payment Feature:\n",
      "0    1.123292\n",
      "1    1.123292\n",
      "2    0.579197\n",
      "3    1.053086\n",
      "4    1.237376\n",
      "Name: Monthly_Loan_Payment, dtype: float64\n"
     ]
    }
   ],
   "source": [
    "annual_interest_rate = 0.10\n",
    "monthly_interest_rate = annual_interest_rate / 12\n",
    "loan_term = 360\n",
    "\n",
    "df['Monthly_Loan_Payment'] = df['LoanAmount'] * monthly_interest_rate * (1 + monthly_interest_rate) ** loan_term / ((1 + monthly_interest_rate) ** loan_term - 1)\n",
    "\n",
    "print(df[['LoanAmount', 'Monthly_Loan_Payment']].head())\n",
    "\n",
    "Q1 = df['Monthly_Loan_Payment'].quantile(0.25)\n",
    "Q3 = df['Monthly_Loan_Payment'].quantile(0.75)\n",
    "IQR = Q3 - Q1\n",
    "\n",
    "lower_bound = Q1 - 1.5 * IQR\n",
    "upper_bound = Q3 + 1.5 * IQR\n",
    "\n",
    "df['Monthly_Loan_Payment'] = df['Monthly_Loan_Payment'].apply(lambda x: upper_bound if x > upper_bound else (lower_bound if x < lower_bound else x))\n",
    "\n",
    "print(\"Cleaned Monthly Loan Payment Feature:\")\n",
    "print(df['Monthly_Loan_Payment'].head())\n"
   ]
  },
  {
   "cell_type": "markdown",
   "metadata": {},
   "source": [
    "## Adding the \"Monthly Loan Payment\" feature and Handling Outliers\n",
    "\n",
    "In this step, we will create a new feature \"Monthly Loan Payment\" based on the formula for monthly payments of a loan. We'll assume a fixed interest rate and a standard loan term of 30 years (360 months).\n",
    "\n",
    "Then, we'll handle outliers for the \"Monthly Loan Payment\" feature by applying the Interquartile Range (IQR) method to cap the values within the upper and lower bounds.\n",
    "\n",
    "The formula for the monthly payment is:\n",
    "\n",
    "\\[\n",
    "M = \\frac{P \\cdot r \\cdot (1 + r)^n}{(1 + r)^n - 1}\n",
    "\\]\n",
    "\n",
    "Where:\n",
    "- \\( P \\) is the loan amount\n",
    "- \\( r \\) is the monthly interest rate (annual rate / 12)\n",
    "- \\( n \\) is the loan term in months (360 months for a 30-year term)\n"
   ]
  },
  {
   "cell_type": "code",
   "execution_count": 15,
   "metadata": {},
   "outputs": [
    {
     "name": "stdout",
     "output_type": "stream",
     "text": [
      "   LoanAmount  Monthly_Loan_Payment\n",
      "0       128.0              1.123292\n",
      "1       128.0              1.123292\n",
      "2        66.0              0.579197\n",
      "3       120.0              1.053086\n",
      "4       141.0              1.237376\n"
     ]
    }
   ],
   "source": [
    "annual_interest_rate = 0.1\n",
    "r = annual_interest_rate / 12\n",
    "n = 360\n",
    "\n",
    "df['Monthly_Loan_Payment'] = (df['LoanAmount'] * r * (1 + r)**n) / ((1 + r)**n - 1)\n",
    "\n",
    "Q1 = df['Monthly_Loan_Payment'].quantile(0.25)\n",
    "Q3 = df['Monthly_Loan_Payment'].quantile(0.75)\n",
    "IQR = Q3 - Q1\n",
    "\n",
    "lower_bound = Q1 - 1.5 * IQR\n",
    "upper_bound = Q3 + 1.5 * IQR\n",
    "\n",
    "df['Monthly_Loan_Payment'] = df['Monthly_Loan_Payment'].apply(lambda x: upper_bound if x > upper_bound else (lower_bound if x < lower_bound else x))\n",
    "\n",
    "print(df[['LoanAmount', 'Monthly_Loan_Payment']].head())\n"
   ]
  },
  {
   "cell_type": "code",
   "execution_count": 16,
   "metadata": {},
   "outputs": [
    {
     "name": "stdout",
     "output_type": "stream",
     "text": [
      "0    1\n",
      "1    0\n",
      "2    1\n",
      "3    1\n",
      "4    1\n",
      "Name: Loan_Status, dtype: int64\n"
     ]
    }
   ],
   "source": [
    "df['Loan_Status'] = df['Loan_Status'].map({'Y': 1, 'N': 0})\n",
    "\n",
    "print(df['Loan_Status'].head())\n"
   ]
  },
  {
   "cell_type": "markdown",
   "metadata": {},
   "source": [
    "## Splitting the Data into Training and Testing Sets\n",
    "\n",
    "Now that we have preprocessed and encoded the data, the next step is to split it into training and testing sets. This will allow us to train our machine learning model on one subset of the data and evaluate its performance on another.\n",
    "\n",
    "We'll use the `train_test_split` function from `sklearn.model_selection` to split the data, with 80% for training and 20% for testing.\n",
    "\n",
    "```python\n",
    "from sklearn.model_selection import train_test_split\n",
    "\n",
    "X = df.drop(columns=['Loan_Status'])\n",
    "y = df['Loan_Status']\n",
    "\n",
    "X_train, X_test, y_train, y_test = train_test_split(X, y, test_size=0.2, random_state=42)\n",
    "\n",
    "print(f\"Training set size: {X_train.shape[0]}\")\n",
    "print(f\"Testing set size: {X_test.shape[0]}\")\n"
   ]
  },
  {
   "cell_type": "code",
   "execution_count": 26,
   "metadata": {},
   "outputs": [
    {
     "name": "stdout",
     "output_type": "stream",
     "text": [
      "First few rows of the dataframe:\n",
      "  Dependents  ApplicantIncome  CoapplicantIncome  LoanAmount  Loan_Status  \\\n",
      "0          0             5849                0.0       128.0            1   \n",
      "1          1             4583             1508.0       128.0            0   \n",
      "2          0             3000                0.0        66.0            1   \n",
      "3          0             2583             2358.0       120.0            1   \n",
      "4          0             6000                0.0       141.0            1   \n",
      "\n",
      "   Gender_Male  Married_Yes  Education_Not Graduate  Self_Employed_Yes  \\\n",
      "0         True        False                   False              False   \n",
      "1         True         True                   False              False   \n",
      "2         True         True                   False               True   \n",
      "3         True         True                    True              False   \n",
      "4         True        False                   False              False   \n",
      "\n",
      "   Property_Area_Semiurban  Property_Area_Urban  Monthly_Loan_Payment  \\\n",
      "0                    False                 True              1.123292   \n",
      "1                    False                False              1.123292   \n",
      "2                    False                 True              0.579197   \n",
      "3                    False                 True              1.053086   \n",
      "4                    False                 True              1.237376   \n",
      "\n",
      "   Credit_History_1.0  \n",
      "0                True  \n",
      "1                True  \n",
      "2                True  \n",
      "3                True  \n",
      "4                True  \n",
      "\n",
      "Missing values in each column:\n",
      "Dependents                 0\n",
      "ApplicantIncome            0\n",
      "CoapplicantIncome          0\n",
      "LoanAmount                 0\n",
      "Loan_Status                0\n",
      "Gender_Male                0\n",
      "Married_Yes                0\n",
      "Education_Not Graduate     0\n",
      "Self_Employed_Yes          0\n",
      "Property_Area_Semiurban    0\n",
      "Property_Area_Urban        0\n",
      "Monthly_Loan_Payment       0\n",
      "Credit_History_1.0         0\n",
      "dtype: int64\n",
      "\n",
      "Data types of each column:\n",
      "Dependents                  object\n",
      "ApplicantIncome              int64\n",
      "CoapplicantIncome          float64\n",
      "LoanAmount                 float64\n",
      "Loan_Status                  int64\n",
      "Gender_Male                   bool\n",
      "Married_Yes                   bool\n",
      "Education_Not Graduate        bool\n",
      "Self_Employed_Yes             bool\n",
      "Property_Area_Semiurban       bool\n",
      "Property_Area_Urban           bool\n",
      "Monthly_Loan_Payment       float64\n",
      "Credit_History_1.0            bool\n",
      "dtype: object\n",
      "\n",
      "Unique values in each column (for non-numeric checks):\n",
      "Dependents: ['0' '1' '2' '3+']\n"
     ]
    }
   ],
   "source": [
    "# Display the first few rows of the dataframe to inspect the data\n",
    "print(\"First few rows of the dataframe:\")\n",
    "print(df.head())\n",
    "\n",
    "# Check for missing values in each column\n",
    "print(\"\\nMissing values in each column:\")\n",
    "print(df.isnull().sum())\n",
    "\n",
    "# Check the data types of each column\n",
    "print(\"\\nData types of each column:\")\n",
    "print(df.dtypes)\n",
    "\n",
    "# Check for any non-numeric values in the dataset\n",
    "print(\"\\nUnique values in each column (for non-numeric checks):\")\n",
    "for column in df.select_dtypes(include=['object']).columns:\n",
    "    print(f\"{column}: {df[column].unique()}\")\n"
   ]
  },
  {
   "cell_type": "code",
   "execution_count": 27,
   "metadata": {},
   "outputs": [
    {
     "name": "stdout",
     "output_type": "stream",
     "text": [
      "\n",
      "Unique values in 'Dependents' column after replacement:\n",
      "[0 1 2 3]\n"
     ]
    }
   ],
   "source": [
    "# Replace '3+' with '3' in the 'Dependents' column\n",
    "df['Dependents'] = df['Dependents'].replace('3+', '3')\n",
    "\n",
    "# Convert 'Dependents' column to numeric type\n",
    "df['Dependents'] = pd.to_numeric(df['Dependents'])\n",
    "\n",
    "# Check the unique values again to ensure everything is now numeric\n",
    "print(\"\\nUnique values in 'Dependents' column after replacement:\")\n",
    "print(df['Dependents'].unique())\n"
   ]
  },
  {
   "cell_type": "code",
   "execution_count": 28,
   "metadata": {},
   "outputs": [
    {
     "name": "stdout",
     "output_type": "stream",
     "text": [
      "\n",
      "Data types after handling 'Dependents' column:\n",
      "Dependents                   int64\n",
      "ApplicantIncome              int64\n",
      "CoapplicantIncome          float64\n",
      "LoanAmount                 float64\n",
      "Loan_Status                  int64\n",
      "Gender_Male                   bool\n",
      "Married_Yes                   bool\n",
      "Education_Not Graduate        bool\n",
      "Self_Employed_Yes             bool\n",
      "Property_Area_Semiurban       bool\n",
      "Property_Area_Urban           bool\n",
      "Monthly_Loan_Payment       float64\n",
      "Credit_History_1.0            bool\n",
      "dtype: object\n",
      "\n",
      "Columns after one-hot encoding:\n",
      "Index(['Dependents', 'ApplicantIncome', 'CoapplicantIncome', 'LoanAmount',\n",
      "       'Loan_Status', 'Gender_Male', 'Married_Yes', 'Education_Not Graduate',\n",
      "       'Self_Employed_Yes', 'Property_Area_Semiurban', 'Property_Area_Urban',\n",
      "       'Monthly_Loan_Payment', 'Credit_History_1.0'],\n",
      "      dtype='object')\n",
      "\n",
      "Shapes of train and test sets:\n",
      "X_train shape: (491, 12)\n",
      "X_test shape: (123, 12)\n"
     ]
    }
   ],
   "source": [
    "# Check for any remaining categorical variables\n",
    "print(\"\\nData types after handling 'Dependents' column:\")\n",
    "print(df.dtypes)\n",
    "\n",
    "# Convert categorical columns (binary variables) to numeric using one-hot encoding\n",
    "df = pd.get_dummies(df, drop_first=True)\n",
    "\n",
    "# Verify the transformation\n",
    "print(\"\\nColumns after one-hot encoding:\")\n",
    "print(df.columns)\n",
    "\n",
    "# Split the data into features (X) and target variable (y)\n",
    "X = df.drop(columns=['Loan_Status'])\n",
    "y = df['Loan_Status']\n",
    "\n",
    "# Split the data into training and test sets (80-20 split)\n",
    "from sklearn.model_selection import train_test_split\n",
    "X_train, X_test, y_train, y_test = train_test_split(X, y, test_size=0.2, random_state=42)\n",
    "\n",
    "# Print the shapes of the train and test sets to confirm the split\n",
    "print(\"\\nShapes of train and test sets:\")\n",
    "print(f\"X_train shape: {X_train.shape}\")\n",
    "print(f\"X_test shape: {X_test.shape}\")\n"
   ]
  },
  {
   "cell_type": "code",
   "execution_count": 29,
   "metadata": {},
   "outputs": [
    {
     "name": "stdout",
     "output_type": "stream",
     "text": [
      "\n",
      "Model Performance:\n",
      "Accuracy: 0.7886\n",
      "\n",
      "Confusion Matrix:\n",
      "[[18 25]\n",
      " [ 1 79]]\n",
      "\n",
      "Classification Report:\n",
      "              precision    recall  f1-score   support\n",
      "\n",
      "           0       0.95      0.42      0.58        43\n",
      "           1       0.76      0.99      0.86        80\n",
      "\n",
      "    accuracy                           0.79       123\n",
      "   macro avg       0.85      0.70      0.72       123\n",
      "weighted avg       0.83      0.79      0.76       123\n",
      "\n",
      "\n",
      "Model Coefficients:\n",
      "[[ 1.30809473e-01 -9.84922412e-06 -4.68698268e-05 -2.65036908e-03\n",
      "  -6.08030330e-02  5.66063997e-01 -3.48200090e-01  1.17373462e-01\n",
      "   7.87616787e-01  1.05070529e-01 -2.32588850e-05  3.26024496e+00]]\n"
     ]
    },
    {
     "name": "stderr",
     "output_type": "stream",
     "text": [
      "c:\\Users\\MoaviaHassan\\miniconda3\\envs\\tensorflow\\lib\\site-packages\\sklearn\\linear_model\\_logistic.py:469: ConvergenceWarning: lbfgs failed to converge (status=1):\n",
      "STOP: TOTAL NO. of ITERATIONS REACHED LIMIT.\n",
      "\n",
      "Increase the number of iterations (max_iter) or scale the data as shown in:\n",
      "    https://scikit-learn.org/stable/modules/preprocessing.html\n",
      "Please also refer to the documentation for alternative solver options:\n",
      "    https://scikit-learn.org/stable/modules/linear_model.html#logistic-regression\n",
      "  n_iter_i = _check_optimize_result(\n"
     ]
    }
   ],
   "source": [
    "from sklearn.linear_model import LogisticRegression\n",
    "from sklearn.metrics import classification_report, confusion_matrix, accuracy_score\n",
    "\n",
    "# Initialize the logistic regression model\n",
    "model = LogisticRegression(max_iter=1000)\n",
    "\n",
    "# Train the model on the training data\n",
    "model.fit(X_train, y_train)\n",
    "\n",
    "# Make predictions on the test set\n",
    "y_pred = model.predict(X_test)\n",
    "\n",
    "# Evaluate the model performance\n",
    "print(\"\\nModel Performance:\")\n",
    "print(f\"Accuracy: {accuracy_score(y_test, y_pred):.4f}\")\n",
    "print(\"\\nConfusion Matrix:\")\n",
    "print(confusion_matrix(y_test, y_pred))\n",
    "print(\"\\nClassification Report:\")\n",
    "print(classification_report(y_test, y_pred))\n",
    "\n",
    "# If needed, you can also print the coefficients of the logistic regression model\n",
    "print(\"\\nModel Coefficients:\")\n",
    "print(model.coef_)\n"
   ]
  },
  {
   "cell_type": "markdown",
   "metadata": {},
   "source": [
    "## Model Performance Analysis\n",
    "\n",
    "### Key Observations:\n",
    "\n",
    "1. **Confusion Matrix**:\n",
    "   - **True Positives (79)**: The model correctly predicted **79** loan approvals (class `1`).\n",
    "   - **True Negatives (18)**: The model correctly predicted **18** loan denials (class `0`), but this is quite low.\n",
    "   - **False Positives (25)**: The model incorrectly predicted **25** loan denials as approvals.\n",
    "   - **False Negatives (1)**: The model incorrectly predicted only **1** loan approval as a denial, which is very few.\n",
    "\n",
    "2. **Classification Report**:\n",
    "   - **Recall for Class 1 (Loan Approval)**: **99%**, indicating that the model is very good at identifying loan approvals.\n",
    "   - **Recall for Class 0 (Loan Denial)**: **42%**, indicating that the model misses many loan denials.\n",
    "   - **Precision for Class 0**: **95%**, suggesting that when the model predicts a loan denial, it is often correct. However, this is misleading due to the low number of true positives.\n",
    "\n",
    "3. **Model Coefficients**:\n",
    "   - The coefficients give insights into how each feature affects the model's predictions. For example, certain features like `Gender_Male` and `Monthly_Loan_Payment` have a significant impact on the prediction.\n",
    "\n",
    "4. **Convergence Warning**:\n",
    "   - A **ConvergenceWarning** was raised, indicating that the solver (lbfgs) did not converge within the specified number of iterations. This might be due to unscaled data or the complexity of the problem. It is recommended to either increase the `max_iter` parameter or scale the data for better convergence.\n",
    "\n",
    "---\n",
    "\n",
    "### Recommendations for Improvement:\n",
    "\n",
    "1. **Scaling the Data**: Standardizing the features using `StandardScaler` could improve the model's performance and help the solver converge more efficiently.\n",
    "\n",
    "2. **Hyperparameter Tuning**: Tuning the hyperparameters (e.g., `C` for regularization) or using a different solver like `saga` may help improve model convergence and performance.\n",
    "\n",
    "3. **Addressing Class Imbalance**: \n",
    "   - The model is biased towards predicting loan approvals (class `1`). To address this, consider using techniques like **oversampling** the minority class (class `0`) or adjusting **class weights** in the logistic regression model to improve predictions for loan denials.\n"
   ]
  },
  {
   "cell_type": "markdown",
   "metadata": {},
   "source": [
    "# **Scaling the Data**\n",
    "\n",
    "Scaling the data is a crucial step when using models like logistic regression. It helps to improve convergence and model accuracy."
   ]
  },
  {
   "cell_type": "code",
   "execution_count": 30,
   "metadata": {},
   "outputs": [],
   "source": [
    "from sklearn.preprocessing import StandardScaler\n",
    "\n",
    "scaler = StandardScaler()\n",
    "\n",
    "X_train_scaled = scaler.fit_transform(X_train)\n",
    "X_test_scaled = scaler.transform(X_test)\n"
   ]
  },
  {
   "cell_type": "markdown",
   "metadata": {},
   "source": [
    "# **Model Hyperparameter Tuning**\n",
    "We can improve the model by fine-tuning its hyperparameters, like the regularization strength (C) or using a different solver."
   ]
  },
  {
   "cell_type": "code",
   "execution_count": 31,
   "metadata": {},
   "outputs": [
    {
     "name": "stdout",
     "output_type": "stream",
     "text": [
      "Fitting 5 folds for each of 10 candidates, totalling 50 fits\n",
      "Best Parameters: {'C': 0.1, 'solver': 'lbfgs'}\n"
     ]
    }
   ],
   "source": [
    "from sklearn.model_selection import GridSearchCV\n",
    "\n",
    "# Define parameter grid\n",
    "param_grid = {\n",
    "    'C': [0.001, 0.01, 0.1, 1, 10],\n",
    "    'solver': ['lbfgs', 'saga']\n",
    "}\n",
    "\n",
    "# Initialize LogisticRegression\n",
    "log_reg = LogisticRegression(max_iter=1000)\n",
    "\n",
    "# Initialize GridSearchCV\n",
    "grid_search = GridSearchCV(estimator=log_reg, param_grid=param_grid, cv=5, verbose=1)\n",
    "\n",
    "# Fit the model with hyperparameter tuning\n",
    "grid_search.fit(X_train_scaled, y_train)\n",
    "\n",
    "# Get the best parameters\n",
    "print(\"Best Parameters:\", grid_search.best_params_)\n"
   ]
  },
  {
   "cell_type": "markdown",
   "metadata": {},
   "source": [
    "# **Model Evaluation After Scaling and Tuning**\n",
    "Once scaling and hyperparameter tuning are done, we evaluate the model on the test data.\n"
   ]
  },
  {
   "cell_type": "code",
   "execution_count": 32,
   "metadata": {},
   "outputs": [
    {
     "name": "stdout",
     "output_type": "stream",
     "text": [
      "Accuracy after scaling and tuning: 0.7886\n",
      "\n",
      "Confusion Matrix:\n",
      "[[18 25]\n",
      " [ 1 79]]\n",
      "\n",
      "Classification Report:\n",
      "              precision    recall  f1-score   support\n",
      "\n",
      "           0       0.95      0.42      0.58        43\n",
      "           1       0.76      0.99      0.86        80\n",
      "\n",
      "    accuracy                           0.79       123\n",
      "   macro avg       0.85      0.70      0.72       123\n",
      "weighted avg       0.83      0.79      0.76       123\n",
      "\n"
     ]
    }
   ],
   "source": [
    "# Use the best estimator from grid search\n",
    "best_model = grid_search.best_estimator_\n",
    "\n",
    "# Predict on the test set\n",
    "y_pred_scaled = best_model.predict(X_test_scaled)\n",
    "\n",
    "# Calculate accuracy\n",
    "accuracy_scaled = accuracy_score(y_test, y_pred_scaled)\n",
    "print(f\"Accuracy after scaling and tuning: {accuracy_scaled:.4f}\")\n",
    "\n",
    "# Confusion matrix and classification report\n",
    "print(\"\\nConfusion Matrix:\")\n",
    "print(confusion_matrix(y_test, y_pred_scaled))\n",
    "\n",
    "print(\"\\nClassification Report:\")\n",
    "print(classification_report(y_test, y_pred_scaled))\n"
   ]
  }
 ],
 "metadata": {
  "kernelspec": {
   "display_name": "tensorflow",
   "language": "python",
   "name": "python3"
  },
  "language_info": {
   "codemirror_mode": {
    "name": "ipython",
    "version": 3
   },
   "file_extension": ".py",
   "mimetype": "text/x-python",
   "name": "python",
   "nbconvert_exporter": "python",
   "pygments_lexer": "ipython3",
   "version": "3.10.8"
  }
 },
 "nbformat": 4,
 "nbformat_minor": 2
}

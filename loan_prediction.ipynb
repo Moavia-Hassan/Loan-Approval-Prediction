{
 "cells": [
  {
   "cell_type": "code",
   "execution_count": 2,
   "metadata": {},
   "outputs": [
    {
     "name": "stdout",
     "output_type": "stream",
     "text": [
      "    Loan_ID Gender Married Dependents     Education Self_Employed  \\\n",
      "0  LP001002   Male      No          0      Graduate            No   \n",
      "1  LP001003   Male     Yes          1      Graduate            No   \n",
      "2  LP001005   Male     Yes          0      Graduate           Yes   \n",
      "3  LP001006   Male     Yes          0  Not Graduate            No   \n",
      "4  LP001008   Male      No          0      Graduate            No   \n",
      "\n",
      "   ApplicantIncome  CoapplicantIncome  LoanAmount  Loan_Amount_Term  \\\n",
      "0             5849                0.0         NaN             360.0   \n",
      "1             4583             1508.0       128.0             360.0   \n",
      "2             3000                0.0        66.0             360.0   \n",
      "3             2583             2358.0       120.0             360.0   \n",
      "4             6000                0.0       141.0             360.0   \n",
      "\n",
      "   Credit_History Property_Area Loan_Status  \n",
      "0             1.0         Urban           Y  \n",
      "1             1.0         Rural           N  \n",
      "2             1.0         Urban           Y  \n",
      "3             1.0         Urban           Y  \n",
      "4             1.0         Urban           Y  \n"
     ]
    }
   ],
   "source": [
    "# Import necessary libraries\n",
    "import pandas as pd\n",
    "\n",
    "# Load the dataset\n",
    "df = pd.read_csv('loan_approval.csv')  # Replace with the correct file path\n",
    "print(df.head())  # Display the first 5 rows"
   ]
  },
  {
   "cell_type": "code",
   "execution_count": 3,
   "metadata": {},
   "outputs": [
    {
     "name": "stdout",
     "output_type": "stream",
     "text": [
      "<class 'pandas.core.frame.DataFrame'>\n",
      "RangeIndex: 614 entries, 0 to 613\n",
      "Data columns (total 13 columns):\n",
      " #   Column             Non-Null Count  Dtype  \n",
      "---  ------             --------------  -----  \n",
      " 0   Loan_ID            614 non-null    object \n",
      " 1   Gender             601 non-null    object \n",
      " 2   Married            611 non-null    object \n",
      " 3   Dependents         599 non-null    object \n",
      " 4   Education          614 non-null    object \n",
      " 5   Self_Employed      582 non-null    object \n",
      " 6   ApplicantIncome    614 non-null    int64  \n",
      " 7   CoapplicantIncome  614 non-null    float64\n",
      " 8   LoanAmount         592 non-null    float64\n",
      " 9   Loan_Amount_Term   600 non-null    float64\n",
      " 10  Credit_History     564 non-null    float64\n",
      " 11  Property_Area      614 non-null    object \n",
      " 12  Loan_Status        614 non-null    object \n",
      "dtypes: float64(4), int64(1), object(8)\n",
      "memory usage: 62.5+ KB\n",
      "None\n",
      "Loan_ID               0\n",
      "Gender               13\n",
      "Married               3\n",
      "Dependents           15\n",
      "Education             0\n",
      "Self_Employed        32\n",
      "ApplicantIncome       0\n",
      "CoapplicantIncome     0\n",
      "LoanAmount           22\n",
      "Loan_Amount_Term     14\n",
      "Credit_History       50\n",
      "Property_Area         0\n",
      "Loan_Status           0\n",
      "dtype: int64\n",
      "       ApplicantIncome  CoapplicantIncome  LoanAmount  Loan_Amount_Term  \\\n",
      "count       614.000000         614.000000  592.000000         600.00000   \n",
      "mean       5403.459283        1621.245798  146.412162         342.00000   \n",
      "std        6109.041673        2926.248369   85.587325          65.12041   \n",
      "min         150.000000           0.000000    9.000000          12.00000   \n",
      "25%        2877.500000           0.000000  100.000000         360.00000   \n",
      "50%        3812.500000        1188.500000  128.000000         360.00000   \n",
      "75%        5795.000000        2297.250000  168.000000         360.00000   \n",
      "max       81000.000000       41667.000000  700.000000         480.00000   \n",
      "\n",
      "       Credit_History  \n",
      "count      564.000000  \n",
      "mean         0.842199  \n",
      "std          0.364878  \n",
      "min          0.000000  \n",
      "25%          1.000000  \n",
      "50%          1.000000  \n",
      "75%          1.000000  \n",
      "max          1.000000  \n",
      "['Male' 'Female' nan]\n"
     ]
    }
   ],
   "source": [
    "# Check dataset info\n",
    "print(df.info())\n",
    "\n",
    "# Check for missing values\n",
    "print(df.isnull().sum())\n",
    "\n",
    "# Check summary statistics for numerical columns\n",
    "print(df.describe())\n",
    "\n",
    "# Check unique values in categorical columns\n",
    "print(df['Gender'].unique())  # Example for Gender column"
   ]
  },
  {
   "cell_type": "code",
   "execution_count": 4,
   "metadata": {},
   "outputs": [
    {
     "name": "stdout",
     "output_type": "stream",
     "text": [
      "Loan_ID               0\n",
      "Gender               13\n",
      "Married               3\n",
      "Dependents           15\n",
      "Education             0\n",
      "Self_Employed        32\n",
      "ApplicantIncome       0\n",
      "CoapplicantIncome     0\n",
      "LoanAmount           22\n",
      "Loan_Amount_Term     14\n",
      "Credit_History       50\n",
      "Property_Area         0\n",
      "Loan_Status           0\n",
      "dtype: int64\n",
      "Loan_ID               0\n",
      "Gender                0\n",
      "Married               0\n",
      "Dependents            0\n",
      "Education             0\n",
      "Self_Employed         0\n",
      "ApplicantIncome       0\n",
      "CoapplicantIncome     0\n",
      "LoanAmount            0\n",
      "Loan_Amount_Term     14\n",
      "Credit_History        0\n",
      "Property_Area         0\n",
      "Loan_Status           0\n",
      "dtype: int64\n"
     ]
    },
    {
     "name": "stderr",
     "output_type": "stream",
     "text": [
      "C:\\Users\\MoaviaHassan\\AppData\\Local\\Temp\\ipykernel_13668\\2682432465.py:6: FutureWarning: A value is trying to be set on a copy of a DataFrame or Series through chained assignment using an inplace method.\n",
      "The behavior will change in pandas 3.0. This inplace method will never work because the intermediate object on which we are setting values always behaves as a copy.\n",
      "\n",
      "For example, when doing 'df[col].method(value, inplace=True)', try using 'df.method({col: value}, inplace=True)' or df[col] = df[col].method(value) instead, to perform the operation inplace on the original object.\n",
      "\n",
      "\n",
      "  df['LoanAmount'].fillna(df['LoanAmount'].median(), inplace=True)\n",
      "C:\\Users\\MoaviaHassan\\AppData\\Local\\Temp\\ipykernel_13668\\2682432465.py:9: FutureWarning: A value is trying to be set on a copy of a DataFrame or Series through chained assignment using an inplace method.\n",
      "The behavior will change in pandas 3.0. This inplace method will never work because the intermediate object on which we are setting values always behaves as a copy.\n",
      "\n",
      "For example, when doing 'df[col].method(value, inplace=True)', try using 'df.method({col: value}, inplace=True)' or df[col] = df[col].method(value) instead, to perform the operation inplace on the original object.\n",
      "\n",
      "\n",
      "  df['Gender'].fillna(df['Gender'].mode()[0], inplace=True)\n",
      "C:\\Users\\MoaviaHassan\\AppData\\Local\\Temp\\ipykernel_13668\\2682432465.py:10: FutureWarning: A value is trying to be set on a copy of a DataFrame or Series through chained assignment using an inplace method.\n",
      "The behavior will change in pandas 3.0. This inplace method will never work because the intermediate object on which we are setting values always behaves as a copy.\n",
      "\n",
      "For example, when doing 'df[col].method(value, inplace=True)', try using 'df.method({col: value}, inplace=True)' or df[col] = df[col].method(value) instead, to perform the operation inplace on the original object.\n",
      "\n",
      "\n",
      "  df['Married'].fillna(df['Married'].mode()[0], inplace=True)\n",
      "C:\\Users\\MoaviaHassan\\AppData\\Local\\Temp\\ipykernel_13668\\2682432465.py:11: FutureWarning: A value is trying to be set on a copy of a DataFrame or Series through chained assignment using an inplace method.\n",
      "The behavior will change in pandas 3.0. This inplace method will never work because the intermediate object on which we are setting values always behaves as a copy.\n",
      "\n",
      "For example, when doing 'df[col].method(value, inplace=True)', try using 'df.method({col: value}, inplace=True)' or df[col] = df[col].method(value) instead, to perform the operation inplace on the original object.\n",
      "\n",
      "\n",
      "  df['Dependents'].fillna(df['Dependents'].mode()[0], inplace=True)\n",
      "C:\\Users\\MoaviaHassan\\AppData\\Local\\Temp\\ipykernel_13668\\2682432465.py:12: FutureWarning: A value is trying to be set on a copy of a DataFrame or Series through chained assignment using an inplace method.\n",
      "The behavior will change in pandas 3.0. This inplace method will never work because the intermediate object on which we are setting values always behaves as a copy.\n",
      "\n",
      "For example, when doing 'df[col].method(value, inplace=True)', try using 'df.method({col: value}, inplace=True)' or df[col] = df[col].method(value) instead, to perform the operation inplace on the original object.\n",
      "\n",
      "\n",
      "  df['Self_Employed'].fillna(df['Self_Employed'].mode()[0], inplace=True)\n",
      "C:\\Users\\MoaviaHassan\\AppData\\Local\\Temp\\ipykernel_13668\\2682432465.py:13: FutureWarning: A value is trying to be set on a copy of a DataFrame or Series through chained assignment using an inplace method.\n",
      "The behavior will change in pandas 3.0. This inplace method will never work because the intermediate object on which we are setting values always behaves as a copy.\n",
      "\n",
      "For example, when doing 'df[col].method(value, inplace=True)', try using 'df.method({col: value}, inplace=True)' or df[col] = df[col].method(value) instead, to perform the operation inplace on the original object.\n",
      "\n",
      "\n",
      "  df['Credit_History'].fillna(df['Credit_History'].mode()[0], inplace=True)\n"
     ]
    }
   ],
   "source": [
    "# Check missing values again\n",
    "print(df.isnull().sum())\n",
    "\n",
    "# Handle missing values\n",
    "# For numerical columns, impute with median\n",
    "df['LoanAmount'].fillna(df['LoanAmount'].median(), inplace=True)\n",
    "\n",
    "# For categorical columns, impute with mode\n",
    "df['Gender'].fillna(df['Gender'].mode()[0], inplace=True)\n",
    "df['Married'].fillna(df['Married'].mode()[0], inplace=True)\n",
    "df['Dependents'].fillna(df['Dependents'].mode()[0], inplace=True)\n",
    "df['Self_Employed'].fillna(df['Self_Employed'].mode()[0], inplace=True)\n",
    "df['Credit_History'].fillna(df['Credit_History'].mode()[0], inplace=True)\n",
    "\n",
    "# Verify if missing values are handled\n",
    "print(df.isnull().sum())"
   ]
  },
  {
   "cell_type": "code",
   "execution_count": 5,
   "metadata": {},
   "outputs": [],
   "source": [
    "# Detect outliers in numerical columns (e.g., LoanAmount)\n",
    "Q1 = df['LoanAmount'].quantile(0.25)\n",
    "Q3 = df['LoanAmount'].quantile(0.75)\n",
    "IQR = Q3 - Q1\n",
    "\n",
    "lower_bound = Q1 - 1.5 * IQR\n",
    "upper_bound = Q3 + 1.5 * IQR\n",
    "\n",
    "# Cap outliers to the upper and lower bounds\n",
    "df['LoanAmount'] = df['LoanAmount'].apply(lambda x: upper_bound if x > upper_bound else (lower_bound if x < lower_bound else x))"
   ]
  },
  {
   "cell_type": "code",
   "execution_count": 6,
   "metadata": {},
   "outputs": [
    {
     "name": "stdout",
     "output_type": "stream",
     "text": [
      "    Loan_ID Dependents  ApplicantIncome  CoapplicantIncome  LoanAmount  \\\n",
      "0  LP001002          0             5849                0.0       128.0   \n",
      "1  LP001003          1             4583             1508.0       128.0   \n",
      "2  LP001005          0             3000                0.0        66.0   \n",
      "3  LP001006          0             2583             2358.0       120.0   \n",
      "4  LP001008          0             6000                0.0       141.0   \n",
      "\n",
      "   Loan_Amount_Term  Credit_History Loan_Status  Gender_Male  Married_Yes  \\\n",
      "0             360.0             1.0           Y         True        False   \n",
      "1             360.0             1.0           N         True         True   \n",
      "2             360.0             1.0           Y         True         True   \n",
      "3             360.0             1.0           Y         True         True   \n",
      "4             360.0             1.0           Y         True        False   \n",
      "\n",
      "   Education_Not Graduate  Self_Employed_Yes  Property_Area_Semiurban  \\\n",
      "0                   False              False                    False   \n",
      "1                   False              False                    False   \n",
      "2                   False               True                    False   \n",
      "3                    True              False                    False   \n",
      "4                   False              False                    False   \n",
      "\n",
      "   Property_Area_Urban  \n",
      "0                 True  \n",
      "1                False  \n",
      "2                 True  \n",
      "3                 True  \n",
      "4                 True  \n"
     ]
    }
   ],
   "source": [
    "# Encode categorical variables\n",
    "df = pd.get_dummies(df, columns=['Gender', 'Married', 'Education', 'Self_Employed', 'Property_Area'], drop_first=True)\n",
    "\n",
    "# Check the updated dataset\n",
    "print(df.head())"
   ]
  },
  {
   "cell_type": "code",
   "execution_count": 7,
   "metadata": {},
   "outputs": [],
   "source": [
    "# Save the cleaned dataset\n",
    "df.to_csv('cleaned_loan_prediction.csv', index=False)"
   ]
  },
  {
   "cell_type": "markdown",
   "metadata": {},
   "source": [
    "## 2.1 Descriptive Statistics"
   ]
  },
  {
   "cell_type": "code",
   "execution_count": 8,
   "metadata": {},
   "outputs": [
    {
     "name": "stdout",
     "output_type": "stream",
     "text": [
      "       ApplicantIncome  CoapplicantIncome  LoanAmount  Loan_Amount_Term  \\\n",
      "count       614.000000         614.000000  614.000000         600.00000   \n",
      "mean       5403.459283        1621.245798  137.365635         342.00000   \n",
      "std        6109.041673        2926.248369   55.779749          65.12041   \n",
      "min         150.000000           0.000000    9.000000          12.00000   \n",
      "25%        2877.500000           0.000000  100.250000         360.00000   \n",
      "50%        3812.500000        1188.500000  128.000000         360.00000   \n",
      "75%        5795.000000        2297.250000  164.750000         360.00000   \n",
      "max       81000.000000       41667.000000  261.500000         480.00000   \n",
      "\n",
      "       Credit_History  \n",
      "count      614.000000  \n",
      "mean         0.855049  \n",
      "std          0.352339  \n",
      "min          0.000000  \n",
      "25%          1.000000  \n",
      "50%          1.000000  \n",
      "75%          1.000000  \n",
      "max          1.000000  \n",
      "Loan_Status\n",
      "Y    422\n",
      "N    192\n",
      "Name: count, dtype: int64\n",
      "Credit_History\n",
      "1.0    525\n",
      "0.0     89\n",
      "Name: count, dtype: int64\n"
     ]
    }
   ],
   "source": [
    "# Import necessary libraries\n",
    "import pandas as pd\n",
    "\n",
    "# Load the cleaned dataset\n",
    "df = pd.read_csv('cleaned_loan_prediction.csv')\n",
    "\n",
    "# Display descriptive statistics for numerical columns\n",
    "print(df.describe())\n",
    "\n",
    "# Display frequency distribution for categorical columns\n",
    "print(df['Loan_Status'].value_counts())  # Target variable\n",
    "print(df['Credit_History'].value_counts())  # Example for another categorical column"
   ]
  },
  {
   "cell_type": "markdown",
   "metadata": {},
   "source": [
    "## Step 2.2: Hypothesis Testing"
   ]
  },
  {
   "cell_type": "code",
   "execution_count": 9,
   "metadata": {},
   "outputs": [
    {
     "name": "stdout",
     "output_type": "stream",
     "text": [
      "Chi-square Test Results:\n",
      "Chi2 Statistic: 176.1145746235241\n",
      "P-value: 3.4183499979091188e-40\n",
      "Degrees of Freedom: 1\n",
      "Expected Frequencies Table:\n",
      "[[ 27.83061889  61.16938111]\n",
      " [164.16938111 360.83061889]]\n"
     ]
    }
   ],
   "source": [
    "# Import necessary libraries\n",
    "from scipy.stats import chi2_contingency\n",
    "\n",
    "# Create a contingency table for Credit_History and Loan_Status\n",
    "contingency_table = pd.crosstab(df['Credit_History'], df['Loan_Status'])\n",
    "\n",
    "# Perform Chi-square test\n",
    "chi2, p_value, dof, expected = chi2_contingency(contingency_table)\n",
    "\n",
    "print(\"Chi-square Test Results:\")\n",
    "print(f\"Chi2 Statistic: {chi2}\")\n",
    "print(f\"P-value: {p_value}\")\n",
    "print(f\"Degrees of Freedom: {dof}\")\n",
    "print(\"Expected Frequencies Table:\")\n",
    "print(expected)"
   ]
  },
  {
   "cell_type": "markdown",
   "metadata": {},
   "source": [
    "## Step 2.3: t-test for ApplicantIncome"
   ]
  },
  {
   "cell_type": "code",
   "execution_count": 10,
   "metadata": {},
   "outputs": [
    {
     "name": "stdout",
     "output_type": "stream",
     "text": [
      "t-test Results for ApplicantIncome:\n",
      "t-statistic: -0.11650844828724542\n",
      "p-value: 0.907287812130518\n"
     ]
    }
   ],
   "source": [
    "# Import necessary libraries\n",
    "from scipy.stats import ttest_ind\n",
    "\n",
    "# Separate ApplicantIncome for approved and rejected loans\n",
    "income_approved = df[df['Loan_Status'] == 'Y']['ApplicantIncome']\n",
    "income_rejected = df[df['Loan_Status'] == 'N']['ApplicantIncome']\n",
    "\n",
    "# Perform t-test\n",
    "t_stat, p_value = ttest_ind(income_approved, income_rejected)\n",
    "\n",
    "print(\"t-test Results for ApplicantIncome:\")\n",
    "print(f\"t-statistic: {t_stat}\")\n",
    "print(f\"p-value: {p_value}\")"
   ]
  },
  {
   "cell_type": "markdown",
   "metadata": {},
   "source": [
    "## Step 2.4: Multicollinearity Check"
   ]
  },
  {
   "cell_type": "code",
   "execution_count": 18,
   "metadata": {},
   "outputs": [
    {
     "name": "stdout",
     "output_type": "stream",
     "text": [
      "0\n"
     ]
    },
    {
     "name": "stderr",
     "output_type": "stream",
     "text": [
      "C:\\Users\\MoaviaHassan\\AppData\\Local\\Temp\\ipykernel_13668\\300839153.py:2: FutureWarning: A value is trying to be set on a copy of a DataFrame or Series through chained assignment using an inplace method.\n",
      "The behavior will change in pandas 3.0. This inplace method will never work because the intermediate object on which we are setting values always behaves as a copy.\n",
      "\n",
      "For example, when doing 'df[col].method(value, inplace=True)', try using 'df.method({col: value}, inplace=True)' or df[col] = df[col].method(value) instead, to perform the operation inplace on the original object.\n",
      "\n",
      "\n",
      "  df['Loan_Amount_Term'].fillna(df['Loan_Amount_Term'].median(), inplace=True)\n"
     ]
    }
   ],
   "source": [
    "# Impute missing values in Loan_Amount_Term\n",
    "df['Loan_Amount_Term'].fillna(df['Loan_Amount_Term'].median(), inplace=True)\n",
    "\n",
    "# Verify if missing values are handled\n",
    "print(df['Loan_Amount_Term'].isnull().sum())"
   ]
  },
  {
   "cell_type": "code",
   "execution_count": 19,
   "metadata": {},
   "outputs": [
    {
     "name": "stdout",
     "output_type": "stream",
     "text": [
      "VIF Results:\n",
      "            Variable       VIF\n",
      "0    ApplicantIncome  2.321698\n",
      "1  CoapplicantIncome  1.456320\n",
      "2         LoanAmount  9.008554\n",
      "3   Loan_Amount_Term  9.639508\n",
      "4     Credit_History  5.871926\n"
     ]
    }
   ],
   "source": [
    "# Import necessary libraries\n",
    "from statsmodels.stats.outliers_influence import variance_inflation_factor\n",
    "\n",
    "# Select independent variables for VIF calculation\n",
    "independent_vars = df[['ApplicantIncome', 'CoapplicantIncome', 'LoanAmount', 'Loan_Amount_Term', 'Credit_History']]\n",
    "\n",
    "# Calculate VIF for each variable\n",
    "vif_data = pd.DataFrame()\n",
    "vif_data['Variable'] = independent_vars.columns\n",
    "vif_data['VIF'] = [variance_inflation_factor(independent_vars.values, i) for i in range(independent_vars.shape[1])]\n",
    "\n",
    "print(\"VIF Results:\")\n",
    "print(vif_data)"
   ]
  },
  {
   "cell_type": "markdown",
   "metadata": {},
   "source": [
    "## Step 1: Create a New Feature (Monthly Loan Payment)"
   ]
  },
  {
   "cell_type": "code",
   "execution_count": 20,
   "metadata": {},
   "outputs": [
    {
     "name": "stdout",
     "output_type": "stream",
     "text": [
      "   Monthly_Loan_Payment\n",
      "0              0.355556\n",
      "1              0.355556\n",
      "2              0.183333\n",
      "3              0.333333\n",
      "4              0.391667\n"
     ]
    }
   ],
   "source": [
    "# Create a new feature: Monthly Loan Payment\n",
    "df['Monthly_Loan_Payment'] = df['LoanAmount'] / df['Loan_Amount_Term']\n",
    "\n",
    "# Drop the original LoanAmount and Loan_Amount_Term columns\n",
    "df.drop(['LoanAmount', 'Loan_Amount_Term'], axis=1, inplace=True)\n",
    "\n",
    "# Verify the new feature\n",
    "print(df[['Monthly_Loan_Payment']].head())"
   ]
  },
  {
   "cell_type": "code",
   "execution_count": 22,
   "metadata": {},
   "outputs": [
    {
     "name": "stdout",
     "output_type": "stream",
     "text": [
      "Updated VIF Results:\n",
      "               Variable       VIF\n",
      "0       ApplicantIncome  1.712168\n",
      "1     CoapplicantIncome  1.305973\n",
      "2  Monthly_Loan_Payment  1.916867\n",
      "3        Credit_History  2.219233\n"
     ]
    }
   ],
   "source": [
    "# Select independent variables for VIF calculation\n",
    "independent_vars = df[['ApplicantIncome', 'CoapplicantIncome', 'Monthly_Loan_Payment', 'Credit_History']]\n",
    "\n",
    "# Calculate VIF for each variable\n",
    "vif_data = pd.DataFrame()\n",
    "vif_data['Variable'] = independent_vars.columns\n",
    "vif_data['VIF'] = [variance_inflation_factor(independent_vars.values, i) for i in range(independent_vars.shape[1])]\n",
    "\n",
    "print(\"Updated VIF Results:\")\n",
    "print(vif_data)"
   ]
  },
  {
   "cell_type": "markdown",
   "metadata": {},
   "source": [
    "## Step 3: Outlier Detection Using Cook’s Distance\n",
    "Cook’s Distance measures the influence of each data point on the regression model. Points with a Cook’s Distance greater than a threshold (typically 4/n, where n is the number of observations) are considered influential outliers."
   ]
  },
  {
   "cell_type": "code",
   "execution_count": 23,
   "metadata": {},
   "outputs": [
    {
     "name": "stdout",
     "output_type": "stream",
     "text": [
      "Optimization terminated successfully.\n",
      "         Current function value: 0.476154\n",
      "         Iterations 6\n",
      "Number of outliers: 23\n",
      "Outlier indices: [9, 122, 155, 171, 183, 201, 262, 267, 284, 308, 326, 333, 369, 402, 417, 453, 487, 497, 527, 546, 581, 585, 600]\n",
      "      Loan_ID Dependents  ApplicantIncome  CoapplicantIncome  Credit_History  \\\n",
      "9    LP001020          1            12841            10968.0             1.0   \n",
      "122  LP001431          0             2137             8980.0             0.0   \n",
      "155  LP001536         3+            39999                0.0             0.0   \n",
      "171  LP001585         3+            51763                0.0             1.0   \n",
      "183  LP001637          1            33846                0.0             1.0   \n",
      "201  LP001677          2             4923                0.0             0.0   \n",
      "262  LP001870          1             3481                0.0             1.0   \n",
      "267  LP001882         3+             4333             1811.0             0.0   \n",
      "284  LP001922          0            20667                0.0             1.0   \n",
      "308  LP001996          0            20233                0.0             1.0   \n",
      "326  LP002068          0             4917                0.0             0.0   \n",
      "333  LP002101          0            63337                0.0             1.0   \n",
      "369  LP002191          0            19730             5266.0             1.0   \n",
      "402  LP002297          0             2500            20000.0             1.0   \n",
      "417  LP002342          2             1600            20000.0             1.0   \n",
      "453  LP002449          0             2483             2466.0             0.0   \n",
      "487  LP002547          1            18333                0.0             1.0   \n",
      "497  LP002588          0             4625             2857.0             1.0   \n",
      "527  LP002706          1             5285             1430.0             0.0   \n",
      "546  LP002768          0             3358                0.0             1.0   \n",
      "581  LP002893          0             1836            33837.0             1.0   \n",
      "585  LP002912          1             4283             3000.0             1.0   \n",
      "600  LP002949         3+              416            41667.0             1.0   \n",
      "\n",
      "     Loan_Status  Gender_Male  Married_Yes  Education_Not Graduate  \\\n",
      "9              0         True         True                   False   \n",
      "122            1        False        False                   False   \n",
      "155            1         True         True                   False   \n",
      "171            1         True         True                   False   \n",
      "183            0         True         True                   False   \n",
      "201            1         True        False                   False   \n",
      "262            0        False        False                   False   \n",
      "267            1         True         True                   False   \n",
      "284            0         True         True                   False   \n",
      "308            0         True        False                   False   \n",
      "326            1         True        False                   False   \n",
      "333            1         True         True                   False   \n",
      "369            0         True         True                   False   \n",
      "402            1         True        False                   False   \n",
      "417            0         True         True                   False   \n",
      "453            1         True         True                   False   \n",
      "487            0         True         True                   False   \n",
      "497            1         True         True                   False   \n",
      "527            1         True         True                    True   \n",
      "546            0         True        False                    True   \n",
      "581            0         True        False                   False   \n",
      "585            0         True         True                   False   \n",
      "600            0        False        False                   False   \n",
      "\n",
      "     Self_Employed_Yes  Property_Area_Semiurban  Property_Area_Urban  \\\n",
      "9                False                     True                False   \n",
      "122              False                     True                False   \n",
      "155              False                     True                False   \n",
      "171              False                    False                 True   \n",
      "183              False                     True                False   \n",
      "201              False                     True                False   \n",
      "262              False                     True                False   \n",
      "267              False                    False                 True   \n",
      "284              False                    False                False   \n",
      "308              False                    False                False   \n",
      "326              False                    False                False   \n",
      "333              False                    False                 True   \n",
      "369              False                    False                False   \n",
      "402              False                     True                False   \n",
      "417               True                    False                 True   \n",
      "453              False                    False                False   \n",
      "487              False                    False                 True   \n",
      "497              False                    False                 True   \n",
      "527              False                     True                False   \n",
      "546              False                     True                False   \n",
      "581              False                    False                 True   \n",
      "585              False                    False                False   \n",
      "600              False                    False                 True   \n",
      "\n",
      "     Monthly_Loan_Payment  Cooks_Distance  \n",
      "9                0.726389        0.012309  \n",
      "122              0.380556        0.038779  \n",
      "155              1.452778        0.101362  \n",
      "171              0.871667        0.006922  \n",
      "183              0.722222        0.039305  \n",
      "201              0.461111        0.027127  \n",
      "262              4.305556        0.076024  \n",
      "267              0.444444        0.027188  \n",
      "284              0.355556        0.012415  \n",
      "308              0.726389        0.011250  \n",
      "326              0.361111        0.027033  \n",
      "333              1.452778        0.013715  \n",
      "369              0.726389        0.011662  \n",
      "402              0.286111        0.012502  \n",
      "417              0.663889        0.027004  \n",
      "453              0.500000        0.028035  \n",
      "487              0.726389        0.008957  \n",
      "497              9.250000        1.037625  \n",
      "527              0.447222        0.026984  \n",
      "546              2.222222        0.016972  \n",
      "581              0.250000        0.066146  \n",
      "585              2.047619        0.011887  \n",
      "600              1.452778        0.062891  \n"
     ]
    }
   ],
   "source": [
    "# Import necessary libraries\n",
    "import statsmodels.api as sm\n",
    "from statsmodels.formula.api import ols\n",
    "\n",
    "# Prepare the data for logistic regression\n",
    "# Encode the target variable (Loan_Status) as binary (1 for 'Y', 0 for 'N')\n",
    "df['Loan_Status'] = df['Loan_Status'].map({'Y': 1, 'N': 0})\n",
    "\n",
    "# Define independent variables (features) and dependent variable (target)\n",
    "X = df[['ApplicantIncome', 'CoapplicantIncome', 'Monthly_Loan_Payment', 'Credit_History']]\n",
    "X = sm.add_constant(X)  # Add a constant for the intercept term\n",
    "y = df['Loan_Status']\n",
    "\n",
    "# Fit the logistic regression model\n",
    "model = sm.Logit(y, X)\n",
    "results = model.fit()\n",
    "\n",
    "# Calculate Cook's Distance\n",
    "influence = results.get_influence()\n",
    "cooks_distance = influence.cooks_distance[0]\n",
    "\n",
    "# Identify outliers (points with Cook's Distance > 4/n)\n",
    "n = len(df)\n",
    "outlier_threshold = 4 / n\n",
    "outliers = cooks_distance > outlier_threshold\n",
    "\n",
    "# Print the number of outliers and their indices\n",
    "print(f\"Number of outliers: {outliers.sum()}\")\n",
    "print(f\"Outlier indices: {df.index[outliers].tolist()}\")\n",
    "\n",
    "# Add Cook's Distance to the dataframe for visualization\n",
    "df['Cooks_Distance'] = cooks_distance\n",
    "\n",
    "# Display rows with outliers\n",
    "print(df[outliers])"
   ]
  },
  {
   "cell_type": "markdown",
   "metadata": {},
   "source": [
    "## Step 1: Remove Extreme Outliers"
   ]
  },
  {
   "cell_type": "code",
   "execution_count": 25,
   "metadata": {},
   "outputs": [
    {
     "name": "stdout",
     "output_type": "stream",
     "text": [
      "Number of rows after removal: 613\n"
     ]
    }
   ],
   "source": [
    "# Remove the row with the highest Cook's Distance\n",
    "df_cleaned = df.drop(index=497)\n",
    "\n",
    "# Verify the removal\n",
    "print(f\"Number of rows after removal: {len(df_cleaned)}\")"
   ]
  },
  {
   "cell_type": "code",
   "execution_count": 26,
   "metadata": {},
   "outputs": [
    {
     "name": "stdout",
     "output_type": "stream",
     "text": [
      "Optimization terminated successfully.\n",
      "         Current function value: 0.474795\n",
      "         Iterations 6\n",
      "Number of outliers after removal: 24\n",
      "Outlier indices after removal: [9, 68, 122, 155, 183, 201, 242, 262, 267, 284, 308, 326, 333, 369, 402, 409, 417, 453, 487, 527, 546, 581, 585, 600]\n"
     ]
    }
   ],
   "source": [
    "# Prepare the cleaned data for logistic regression\n",
    "X_cleaned = df_cleaned[['ApplicantIncome', 'CoapplicantIncome', 'Monthly_Loan_Payment', 'Credit_History']]\n",
    "X_cleaned = sm.add_constant(X_cleaned)  # Add a constant for the intercept term\n",
    "y_cleaned = df_cleaned['Loan_Status']\n",
    "\n",
    "# Fit the logistic regression model on cleaned data\n",
    "model_cleaned = sm.Logit(y_cleaned, X_cleaned)\n",
    "results_cleaned = model_cleaned.fit()\n",
    "\n",
    "# Calculate Cook's Distance for the cleaned data\n",
    "influence_cleaned = results_cleaned.get_influence()\n",
    "cooks_distance_cleaned = influence_cleaned.cooks_distance[0]\n",
    "\n",
    "# Identify outliers in the cleaned data\n",
    "outlier_threshold_cleaned = 4 / len(df_cleaned)\n",
    "outliers_cleaned = cooks_distance_cleaned > outlier_threshold_cleaned\n",
    "\n",
    "# Print the number of outliers and their indices\n",
    "print(f\"Number of outliers after removal: {outliers_cleaned.sum()}\")\n",
    "print(f\"Outlier indices after removal: {df_cleaned.index[outliers_cleaned].tolist()}\")"
   ]
  },
  {
   "cell_type": "markdown",
   "metadata": {},
   "source": [
    "# **Model Building Process**"
   ]
  },
  {
   "cell_type": "code",
   "execution_count": 27,
   "metadata": {},
   "outputs": [
    {
     "name": "stdout",
     "output_type": "stream",
     "text": [
      "Training set shape: (490, 4)\n",
      "Testing set shape: (123, 4)\n"
     ]
    }
   ],
   "source": [
    "from sklearn.model_selection import train_test_split\n",
    "\n",
    "# Define independent variables (features) and dependent variable (target)\n",
    "X = df_cleaned[['ApplicantIncome', 'CoapplicantIncome', 'Monthly_Loan_Payment', 'Credit_History']]\n",
    "y = df_cleaned['Loan_Status']\n",
    "\n",
    "# Split the data into training and testing sets\n",
    "X_train, X_test, y_train, y_test = train_test_split(X, y, test_size=0.2, random_state=42)\n",
    "\n",
    "# Check the shape of the splits\n",
    "print(f\"Training set shape: {X_train.shape}\")\n",
    "print(f\"Testing set shape: {X_test.shape}\")"
   ]
  },
  {
   "cell_type": "code",
   "execution_count": 28,
   "metadata": {},
   "outputs": [
    {
     "name": "stdout",
     "output_type": "stream",
     "text": [
      "Model Coefficients:\n",
      "[[ 1.27943698e-05 -4.52776624e-05 -5.56031282e-01  3.48525970e+00]]\n"
     ]
    }
   ],
   "source": [
    "from sklearn.linear_model import LogisticRegression\n",
    "\n",
    "# Initialize the logistic regression model\n",
    "model = LogisticRegression()\n",
    "\n",
    "# Train the model on the training data\n",
    "model.fit(X_train, y_train)\n",
    "\n",
    "# Print the model coefficients\n",
    "print(\"Model Coefficients:\")\n",
    "print(model.coef_)"
   ]
  },
  {
   "cell_type": "code",
   "execution_count": 29,
   "metadata": {},
   "outputs": [
    {
     "name": "stdout",
     "output_type": "stream",
     "text": [
      "Accuracy: 0.7805\n",
      "Precision: 0.7714\n",
      "Recall: 0.9643\n",
      "F1-Score: 0.8571\n",
      "ROC-AUC Score: 0.6745\n",
      "Confusion Matrix:\n",
      "[[15 24]\n",
      " [ 3 81]]\n"
     ]
    }
   ],
   "source": [
    "from sklearn.metrics import accuracy_score, precision_score, recall_score, f1_score, roc_auc_score, confusion_matrix\n",
    "\n",
    "# Make predictions on the testing data\n",
    "y_pred = model.predict(X_test)\n",
    "\n",
    "# Calculate evaluation metrics\n",
    "accuracy = accuracy_score(y_test, y_pred)\n",
    "precision = precision_score(y_test, y_pred)\n",
    "recall = recall_score(y_test, y_pred)\n",
    "f1 = f1_score(y_test, y_pred)\n",
    "roc_auc = roc_auc_score(y_test, y_pred)\n",
    "conf_matrix = confusion_matrix(y_test, y_pred)\n",
    "\n",
    "# Print the evaluation metrics\n",
    "print(f\"Accuracy: {accuracy:.4f}\")\n",
    "print(f\"Precision: {precision:.4f}\")\n",
    "print(f\"Recall: {recall:.4f}\")\n",
    "print(f\"F1-Score: {f1:.4f}\")\n",
    "print(f\"ROC-AUC Score: {roc_auc:.4f}\")\n",
    "print(\"Confusion Matrix:\")\n",
    "print(conf_matrix)"
   ]
  },
  {
   "cell_type": "markdown",
   "metadata": {},
   "source": [
    "## Step 1: Feature Engineering"
   ]
  },
  {
   "cell_type": "code",
   "execution_count": 30,
   "metadata": {},
   "outputs": [
    {
     "name": "stdout",
     "output_type": "stream",
     "text": [
      "    Loan_ID Dependents  ApplicantIncome  CoapplicantIncome  Credit_History  \\\n",
      "0  LP001002          0         0.072724          -0.553427             1.0   \n",
      "1  LP001003          1        -0.134512          -0.038017             1.0   \n",
      "2  LP001005          0        -0.393640          -0.553427             1.0   \n",
      "3  LP001006          0        -0.461900           0.252500             1.0   \n",
      "4  LP001008          0         0.097442          -0.553427             1.0   \n",
      "\n",
      "   Loan_Status  Gender_Male  Married_Yes  Education_Not Graduate  \\\n",
      "0            1         True        False                   False   \n",
      "1            0         True         True                   False   \n",
      "2            1         True         True                   False   \n",
      "3            1         True         True                    True   \n",
      "4            1         True        False                   False   \n",
      "\n",
      "   Self_Employed_Yes  Property_Area_Semiurban  Property_Area_Urban  \\\n",
      "0              False                    False                 True   \n",
      "1              False                    False                False   \n",
      "2               True                    False                 True   \n",
      "3              False                    False                 True   \n",
      "4              False                    False                 True   \n",
      "\n",
      "   Monthly_Loan_Payment  Cooks_Distance  Total_Income  \n",
      "0             -0.258789        0.000112     -0.181921  \n",
      "1             -0.258789        0.001549     -0.144451  \n",
      "2             -0.834874        0.000137     -0.623035  \n",
      "3             -0.333122        0.000133     -0.322508  \n",
      "4             -0.137996        0.000112     -0.158541  \n"
     ]
    }
   ],
   "source": [
    "# Create a new feature: Total Income\n",
    "df_cleaned['Total_Income'] = df_cleaned['ApplicantIncome'] + df_cleaned['CoapplicantIncome']\n",
    "\n",
    "# Normalize numerical features\n",
    "from sklearn.preprocessing import StandardScaler\n",
    "\n",
    "# Define numerical features to normalize\n",
    "numerical_features = ['ApplicantIncome', 'CoapplicantIncome', 'Monthly_Loan_Payment', 'Total_Income']\n",
    "\n",
    "# Initialize the scaler\n",
    "scaler = StandardScaler()\n",
    "\n",
    "# Normalize the numerical features\n",
    "df_cleaned[numerical_features] = scaler.fit_transform(df_cleaned[numerical_features])\n",
    "\n",
    "# Verify the updated dataset\n",
    "print(df_cleaned.head())"
   ]
  },
  {
   "cell_type": "code",
   "execution_count": 31,
   "metadata": {},
   "outputs": [
    {
     "name": "stdout",
     "output_type": "stream",
     "text": [
      "Accuracy: 0.7805\n",
      "Precision: 0.7714\n",
      "Recall: 0.9643\n",
      "F1-Score: 0.8571\n",
      "ROC-AUC Score: 0.6745\n",
      "Confusion Matrix:\n",
      "[[15 24]\n",
      " [ 3 81]]\n"
     ]
    }
   ],
   "source": [
    "# Define independent variables (features) and dependent variable (target)\n",
    "X = df_cleaned[['ApplicantIncome', 'CoapplicantIncome', 'Monthly_Loan_Payment', 'Credit_History', 'Total_Income']]\n",
    "y = df_cleaned['Loan_Status']\n",
    "\n",
    "# Split the data into training and testing sets\n",
    "X_train, X_test, y_train, y_test = train_test_split(X, y, test_size=0.2, random_state=42)\n",
    "\n",
    "# Initialize and train the logistic regression model\n",
    "model = LogisticRegression()\n",
    "model.fit(X_train, y_train)\n",
    "\n",
    "# Make predictions on the testing data\n",
    "y_pred = model.predict(X_test)\n",
    "\n",
    "# Calculate evaluation metrics\n",
    "accuracy = accuracy_score(y_test, y_pred)\n",
    "precision = precision_score(y_test, y_pred)\n",
    "recall = recall_score(y_test, y_pred)\n",
    "f1 = f1_score(y_test, y_pred)\n",
    "roc_auc = roc_auc_score(y_test, y_pred)\n",
    "conf_matrix = confusion_matrix(y_test, y_pred)\n",
    "\n",
    "# Print the evaluation metrics\n",
    "print(f\"Accuracy: {accuracy:.4f}\")\n",
    "print(f\"Precision: {precision:.4f}\")\n",
    "print(f\"Recall: {recall:.4f}\")\n",
    "print(f\"F1-Score: {f1:.4f}\")\n",
    "print(f\"ROC-AUC Score: {roc_auc:.4f}\")\n",
    "print(\"Confusion Matrix:\")\n",
    "print(conf_matrix)"
   ]
  }
 ],
 "metadata": {
  "kernelspec": {
   "display_name": "tensorflow",
   "language": "python",
   "name": "python3"
  },
  "language_info": {
   "codemirror_mode": {
    "name": "ipython",
    "version": 3
   },
   "file_extension": ".py",
   "mimetype": "text/x-python",
   "name": "python",
   "nbconvert_exporter": "python",
   "pygments_lexer": "ipython3",
   "version": "3.10.8"
  }
 },
 "nbformat": 4,
 "nbformat_minor": 2
}
